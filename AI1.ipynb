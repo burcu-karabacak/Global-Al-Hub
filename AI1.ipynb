{
  "nbformat": 4,
  "nbformat_minor": 0,
  "metadata": {
    "colab": {
      "name": "AI1.ipynb",
      "provenance": [],
      "collapsed_sections": [],
      "authorship_tag": "ABX9TyPbCcXN04rGQGoqeOI2nQ6L",
      "include_colab_link": true
    },
    "kernelspec": {
      "name": "python3",
      "display_name": "Python 3"
    },
    "language_info": {
      "name": "python"
    }
  },
  "cells": [
    {
      "cell_type": "markdown",
      "metadata": {
        "id": "view-in-github",
        "colab_type": "text"
      },
      "source": [
        "<a href=\"https://colab.research.google.com/github/burcu-karabacak/Global-Al-Hub/blob/main/AI1.ipynb\" target=\"_parent\"><img src=\"https://colab.research.google.com/assets/colab-badge.svg\" alt=\"Open In Colab\"/></a>"
      ]
    },
    {
      "cell_type": "code",
      "execution_count": null,
      "metadata": {
        "colab": {
          "base_uri": "https://localhost:8080/"
        },
        "id": "nCfdx8pZ2Chj",
        "outputId": "aafd9ff0-8f5d-4849-d15d-ab1cfda01b44"
      },
      "outputs": [
        {
          "output_type": "stream",
          "name": "stdout",
          "text": [
            "\n",
            "You are now leaving help and returning to the Python interpreter.\n",
            "If you want to ask for help on a particular object directly from the\n",
            "interpreter, you can type \"help(object)\".  Executing \"help('string')\"\n",
            "has the same effect as typing a particular string at the help> prompt.\n"
          ]
        }
      ],
      "source": [
        "help()\n"
      ]
    },
    {
      "cell_type": "code",
      "source": [
        "fav_number = 12\n",
        "if fav_number < 15:\n",
        "  print(\"my favourite number smaller than x\")"
      ],
      "metadata": {
        "colab": {
          "base_uri": "https://localhost:8080/"
        },
        "id": "d1YFHGi74s5p",
        "outputId": "f7922788-92ba-4a47-bf8f-7d3879b0f530"
      },
      "execution_count": null,
      "outputs": [
        {
          "output_type": "stream",
          "name": "stdout",
          "text": [
            "my favourite number smaller than x\n"
          ]
        }
      ]
    },
    {
      "cell_type": "markdown",
      "source": [
        "**Statements and command\n",
        "**"
      ],
      "metadata": {
        "id": "Tb-7eXS97Wli"
      }
    },
    {
      "cell_type": "code",
      "source": [
        "pi=3.14\n",
        "print(pi)\n",
        "if pi < 3.15:\n",
        "  pi = pi + 0.1\n",
        "print(pi)"
      ],
      "metadata": {
        "colab": {
          "base_uri": "https://localhost:8080/"
        },
        "id": "NPVsz_CX7mQ0",
        "outputId": "baeae1f1-1963-481d-e5e0-4bd2c87891c0"
      },
      "execution_count": null,
      "outputs": [
        {
          "output_type": "stream",
          "name": "stdout",
          "text": [
            "3.14\n",
            "3.24\n"
          ]
        }
      ]
    },
    {
      "cell_type": "code",
      "source": [
        "def greeting(name):\n",
        "    print(f'Hello,{name}')\n",
        "greeting('burcu')\n",
        "\"\"\" Triple qoutes command\n",
        "\"\"\"\n",
        "def greeting(name):\n",
        "  print('hello '+name)\n",
        "greeting('deniz')"
      ],
      "metadata": {
        "colab": {
          "base_uri": "https://localhost:8080/"
        },
        "id": "k7AZLDAm75r2",
        "outputId": "fa878232-82e1-428d-d2c5-80df5d551f55"
      },
      "execution_count": null,
      "outputs": [
        {
          "output_type": "stream",
          "name": "stdout",
          "text": [
            "Hello,burcu\n",
            "hello deniz\n"
          ]
        }
      ]
    },
    {
      "cell_type": "markdown",
      "source": [
        "**AI7023 Variables, data types, type conversion\n",
        "**"
      ],
      "metadata": {
        "id": "mHEHp-j_-a9j"
      }
    },
    {
      "cell_type": "code",
      "source": [
        "name = 'deniz'\n",
        "name"
      ],
      "metadata": {
        "colab": {
          "base_uri": "https://localhost:8080/",
          "height": 35
        },
        "id": "gHzShDFH-kp-",
        "outputId": "28c1aac4-81f4-4268-d547-69bc54f54175"
      },
      "execution_count": null,
      "outputs": [
        {
          "output_type": "execute_result",
          "data": {
            "text/plain": [
              "'deniz'"
            ],
            "application/vnd.google.colaboratory.intrinsic+json": {
              "type": "string"
            }
          },
          "metadata": {},
          "execution_count": 21
        }
      ]
    },
    {
      "cell_type": "code",
      "source": [
        "age = 25\n",
        "age"
      ],
      "metadata": {
        "colab": {
          "base_uri": "https://localhost:8080/"
        },
        "id": "XmafRJaT-1dt",
        "outputId": "59753268-4e42-4fcd-b8db-a15933cb5ed4"
      },
      "execution_count": null,
      "outputs": [
        {
          "output_type": "execute_result",
          "data": {
            "text/plain": [
              "25"
            ]
          },
          "metadata": {},
          "execution_count": 22
        }
      ]
    },
    {
      "cell_type": "code",
      "source": [
        "print(name)\n",
        "print(age)\n"
      ],
      "metadata": {
        "colab": {
          "base_uri": "https://localhost:8080/"
        },
        "id": "01fgBPu7_Avp",
        "outputId": "15a76fa3-727a-4b7b-d44e-ce1f522bcf55"
      },
      "execution_count": null,
      "outputs": [
        {
          "output_type": "stream",
          "name": "stdout",
          "text": [
            "deniz\n",
            "25\n"
          ]
        }
      ]
    },
    {
      "cell_type": "code",
      "source": [
        "print(type(name))\n",
        "\n",
        "print(type(age))\n"
      ],
      "metadata": {
        "colab": {
          "base_uri": "https://localhost:8080/"
        },
        "id": "xkxGyg7l_Rss",
        "outputId": "b816f164-2e88-43c8-e791-aa75efac54e6"
      },
      "execution_count": null,
      "outputs": [
        {
          "output_type": "stream",
          "name": "stdout",
          "text": [
            "<class 'str'>\n",
            "<class 'int'>\n"
          ]
        }
      ]
    },
    {
      "cell_type": "code",
      "source": [
        "name = \"burcu\"\n",
        "type(name)"
      ],
      "metadata": {
        "colab": {
          "base_uri": "https://localhost:8080/"
        },
        "id": "B1SWZI0R_k7m",
        "outputId": "4373d429-1097-45e3-e817-585fef9cdb8d"
      },
      "execution_count": null,
      "outputs": [
        {
          "output_type": "execute_result",
          "data": {
            "text/plain": [
              "str"
            ]
          },
          "metadata": {},
          "execution_count": 25
        }
      ]
    },
    {
      "cell_type": "code",
      "source": [
        "store_items = [\"apple\" , 1.49 , \"Banana\" , 1 , \"milk\" , 2.99 , \"Cheese\", 4.49 ]\n",
        "print(store_items,type(store_items))\n"
      ],
      "metadata": {
        "colab": {
          "base_uri": "https://localhost:8080/"
        },
        "id": "s-8IvueT_09c",
        "outputId": "78d42a07-a30e-48cc-a72c-10792cb21e89"
      },
      "execution_count": null,
      "outputs": [
        {
          "output_type": "stream",
          "name": "stdout",
          "text": [
            "['apple', 1.49, 'Banana', 1, 'milk', 2.99, 'Cheese', 4.49] <class 'list'>\n"
          ]
        }
      ]
    },
    {
      "cell_type": "code",
      "source": [
        "print(store_items[2])\n",
        "print(store_items[0:4])"
      ],
      "metadata": {
        "colab": {
          "base_uri": "https://localhost:8080/"
        },
        "id": "xbrCnKEGBpPN",
        "outputId": "1b585e05-5aed-4c57-f707-b7f3dc7de5fd"
      },
      "execution_count": null,
      "outputs": [
        {
          "output_type": "stream",
          "name": "stdout",
          "text": [
            "Banana\n",
            "['apple', 1.49, 'Banana', 1]\n"
          ]
        }
      ]
    },
    {
      "cell_type": "code",
      "source": [
        "list(store_items[2])"
      ],
      "metadata": {
        "colab": {
          "base_uri": "https://localhost:8080/"
        },
        "id": "GzkdlRSZAulF",
        "outputId": "0baa2f21-b17d-487c-9ffe-68c9880cf266"
      },
      "execution_count": null,
      "outputs": [
        {
          "output_type": "execute_result",
          "data": {
            "text/plain": [
              "['B', 'a', 'n', 'a', 'n', 'a']"
            ]
          },
          "metadata": {},
          "execution_count": 27
        }
      ]
    },
    {
      "cell_type": "code",
      "source": [
        "print(store_items[2:])\n",
        "print(store_items[:2])"
      ],
      "metadata": {
        "colab": {
          "base_uri": "https://localhost:8080/"
        },
        "id": "YHPhExFxCSHy",
        "outputId": "5f446a2b-14f0-4a0c-a153-32686e22a9a6"
      },
      "execution_count": null,
      "outputs": [
        {
          "output_type": "stream",
          "name": "stdout",
          "text": [
            "['Banana', 1, 'milk', 2.99, 'Cheese', 4.49]\n",
            "['apple', 1.49]\n"
          ]
        }
      ]
    },
    {
      "cell_type": "code",
      "source": [
        "store_items[2] = \"chocolate\"\n",
        "print(store_items)"
      ],
      "metadata": {
        "colab": {
          "base_uri": "https://localhost:8080/"
        },
        "id": "Es9MMVQgCtws",
        "outputId": "263d5b26-7379-46d1-b491-6d1c11d6bfee"
      },
      "execution_count": null,
      "outputs": [
        {
          "output_type": "stream",
          "name": "stdout",
          "text": [
            "['apple', 1.49, 'chocolate', 1, 'milk', 2.99, 'Cheese', 4.49]\n"
          ]
        }
      ]
    },
    {
      "cell_type": "code",
      "source": [
        "age = 25\n",
        "print(age, type(age))\n"
      ],
      "metadata": {
        "colab": {
          "base_uri": "https://localhost:8080/"
        },
        "id": "yIBVs0jVDByY",
        "outputId": "6c238402-f640-4dc2-a2ae-3cc16deadf6f"
      },
      "execution_count": null,
      "outputs": [
        {
          "output_type": "stream",
          "name": "stdout",
          "text": [
            "25 <class 'int'>\n"
          ]
        }
      ]
    },
    {
      "cell_type": "code",
      "source": [
        "age=25\n",
        "age +=0.5\n",
        "print(age, type(age))"
      ],
      "metadata": {
        "colab": {
          "base_uri": "https://localhost:8080/"
        },
        "id": "8zuysLTcDTAb",
        "outputId": "8f34eb66-0928-47d2-e10a-2ec4d8b05070"
      },
      "execution_count": null,
      "outputs": [
        {
          "output_type": "stream",
          "name": "stdout",
          "text": [
            "25.5 <class 'float'>\n"
          ]
        }
      ]
    },
    {
      "cell_type": "code",
      "source": [
        "age = \"25\"\n",
        "\n",
        "print(type(age))"
      ],
      "metadata": {
        "colab": {
          "base_uri": "https://localhost:8080/"
        },
        "id": "2NS9mjIsDeaZ",
        "outputId": "843b55b3-f6e5-4618-f74c-3b96ea947bf5"
      },
      "execution_count": null,
      "outputs": [
        {
          "output_type": "stream",
          "name": "stdout",
          "text": [
            "<class 'str'>\n"
          ]
        }
      ]
    },
    {
      "cell_type": "code",
      "source": [
        "age = int(age)\n",
        "print(age, type(age))"
      ],
      "metadata": {
        "colab": {
          "base_uri": "https://localhost:8080/"
        },
        "id": "Wue_6IYmDpcs",
        "outputId": "f9e7710c-c03a-44af-d2f0-4e6768bff4d5"
      },
      "execution_count": null,
      "outputs": [
        {
          "output_type": "stream",
          "name": "stdout",
          "text": [
            "25 <class 'int'>\n"
          ]
        }
      ]
    },
    {
      "cell_type": "markdown",
      "source": [
        "**AI7024 Input and output functions**"
      ],
      "metadata": {
        "id": "bJk28h76HgbR"
      }
    },
    {
      "cell_type": "code",
      "source": [
        "print(\" PRINT output func.\")\n"
      ],
      "metadata": {
        "id": "McTFImVqHms1"
      },
      "execution_count": null,
      "outputs": []
    },
    {
      "cell_type": "code",
      "source": [
        "name= \"burcu\"\n",
        "print(\"hello\",name)"
      ],
      "metadata": {
        "colab": {
          "base_uri": "https://localhost:8080/"
        },
        "id": "4izb4HIxIBEu",
        "outputId": "fe0f65f3-e282-46aa-f0a5-1cca9f984205"
      },
      "execution_count": null,
      "outputs": [
        {
          "output_type": "stream",
          "name": "stdout",
          "text": [
            "hello burcu\n"
          ]
        }
      ]
    },
    {
      "cell_type": "code",
      "source": [
        "print(156)"
      ],
      "metadata": {
        "colab": {
          "base_uri": "https://localhost:8080/"
        },
        "id": "B200J0G4IL3M",
        "outputId": "63c27734-67f9-4535-9fbc-ddb49f384f3a"
      },
      "execution_count": null,
      "outputs": [
        {
          "output_type": "stream",
          "name": "stdout",
          "text": [
            "156\n"
          ]
        }
      ]
    },
    {
      "cell_type": "code",
      "source": [
        "name =input(\"name: \")\n",
        "print(\"Greetings\", name)\n",
        "\"\"\" input girdi func. \"\"\""
      ],
      "metadata": {
        "colab": {
          "base_uri": "https://localhost:8080/",
          "height": 70
        },
        "id": "EqRNu3K8IQhM",
        "outputId": "fcf02219-6a8e-46f3-f1ed-0e50eae195b0"
      },
      "execution_count": null,
      "outputs": [
        {
          "output_type": "stream",
          "name": "stdout",
          "text": [
            "name: BURCUU\n",
            "Greetings BURCUU\n"
          ]
        },
        {
          "output_type": "execute_result",
          "data": {
            "text/plain": [
              "' input girdi func. '"
            ],
            "application/vnd.google.colaboratory.intrinsic+json": {
              "type": "string"
            }
          },
          "metadata": {},
          "execution_count": 49
        }
      ]
    },
    {
      "cell_type": "code",
      "source": [
        "number=int(input('number : '))\n",
        "print( number + 10)"
      ],
      "metadata": {
        "colab": {
          "base_uri": "https://localhost:8080/"
        },
        "id": "2dU7S868IxQB",
        "outputId": "8911a6da-ecb0-485d-e2f9-b700b6f2d8a6"
      },
      "execution_count": null,
      "outputs": [
        {
          "output_type": "stream",
          "name": "stdout",
          "text": [
            "number : 26\n",
            "36\n"
          ]
        }
      ]
    },
    {
      "cell_type": "markdown",
      "source": [
        "**AI7025 Import**"
      ],
      "metadata": {
        "id": "S75uaubkKNqX"
      }
    },
    {
      "cell_type": "code",
      "source": [
        "\"\"\" import modules/ built in / ready to use \"\"\"\n",
        "import math\n",
        "\n",
        "\n",
        "floor_number = (math.floor(3.45))\n",
        "\n",
        "print(floor_number, type(floor_number))\n"
      ],
      "metadata": {
        "colab": {
          "base_uri": "https://localhost:8080/"
        },
        "id": "-Wj3MD4sKSBQ",
        "outputId": "03d83230-ad66-43c3-c5ea-067310956a2c"
      },
      "execution_count": null,
      "outputs": [
        {
          "output_type": "stream",
          "name": "stdout",
          "text": [
            "3 <class 'int'>\n"
          ]
        }
      ]
    },
    {
      "cell_type": "code",
      "source": [
        "import datetime\n",
        "\n",
        "print(datetime.datetime.now())"
      ],
      "metadata": {
        "colab": {
          "base_uri": "https://localhost:8080/"
        },
        "id": "suROeHEZK_QW",
        "outputId": "d948df2b-8d05-417c-fcf3-67ea38e0db20"
      },
      "execution_count": null,
      "outputs": [
        {
          "output_type": "stream",
          "name": "stdout",
          "text": [
            "2022-06-26 22:41:10.505184\n"
          ]
        }
      ]
    },
    {
      "cell_type": "code",
      "source": [
        "import random\n",
        "print(random.randint(1,6))"
      ],
      "metadata": {
        "colab": {
          "base_uri": "https://localhost:8080/"
        },
        "id": "ymoEWs-QLTrN",
        "outputId": "aa4bd3ea-4ea0-49bf-e282-17a0a6038628"
      },
      "execution_count": null,
      "outputs": [
        {
          "output_type": "stream",
          "name": "stdout",
          "text": [
            "2\n"
          ]
        }
      ]
    },
    {
      "cell_type": "markdown",
      "source": [
        "**AI7026 Operators**"
      ],
      "metadata": {
        "id": "8_nyGYMsLh7Z"
      }
    },
    {
      "cell_type": "code",
      "source": [
        "\"\"\" arithmetic, assignment, comparison, and logical operators. \"\"\"\n",
        "print(\"5 + 2 : \",2+5)\n",
        "print(\"5 - 2 : \",5-2)\n",
        "print(\"5 * 2 : \",2*5)\n",
        "print(\"5 ** 2 : \",5**2)\n",
        "print(\"5 / 2 : \",5/2)\n",
        "print(\"5 // 2 : \",5//2)\n",
        "print(\"5 % 2 : \",5%2)\n"
      ],
      "metadata": {
        "colab": {
          "base_uri": "https://localhost:8080/"
        },
        "id": "Okd_hviKLpKb",
        "outputId": "935101cf-19d8-47ac-fa27-db5a5790a05a"
      },
      "execution_count": null,
      "outputs": [
        {
          "output_type": "stream",
          "name": "stdout",
          "text": [
            "5 + 2 :  7\n",
            "5 - 2 :  3\n",
            "5 * 2 :  10\n",
            "5 ** 2 :  25\n",
            "5 / 2 :  2.5\n",
            "5 // 2 :  2\n",
            "5 % 2 :  1\n"
          ]
        }
      ]
    },
    {
      "cell_type": "code",
      "source": [
        "#Assignment operators\n",
        "x = 5 # x=5\n",
        "x += 5  # x=x+5\n",
        "x -= 5  # x=x-5\n",
        "x *= 5  # x=x*5\n",
        "x /= 5  # x=x/5\n"
      ],
      "metadata": {
        "id": "GD9sCCO1MxHB"
      },
      "execution_count": null,
      "outputs": []
    },
    {
      "cell_type": "code",
      "source": [
        "# Comparison operators\n",
        "\n",
        "n1= 10\n",
        "n2 = 5\n",
        "\n",
        "print(n1, \">\",n2,\"=\", n1>n2)\n",
        "\n",
        "print(n1, \">=\",n2,\"=\", n1>=n2)\n",
        "print(n1, \"<\",n2,\"=\", n1<n2)\n",
        "print(n1, \"<=\",n2,\"=\", n1<=n2)\n",
        "print(n1, \"==\",n2,\"=\", n1==n2)\n",
        "print(n1, \"!=\",n2,\"=\", n1!=n2)\n",
        "\n",
        "\n"
      ],
      "metadata": {
        "colab": {
          "base_uri": "https://localhost:8080/"
        },
        "id": "vQBXCPljNdZs",
        "outputId": "d1d379ae-5f69-4080-b7d0-01cce80fbb83"
      },
      "execution_count": null,
      "outputs": [
        {
          "output_type": "stream",
          "name": "stdout",
          "text": [
            "10 > 5 = True\n",
            "10 >= 5 = True\n",
            "10 < 5 = False\n",
            "10 <= 5 = False\n",
            "10 == 5 = False\n",
            "10 != 5 = True\n"
          ]
        }
      ]
    },
    {
      "cell_type": "code",
      "source": [
        "# Logical operators or and not\n",
        "print(True and False and False)\n",
        "\n",
        "print(True or False and False)\n",
        "\n",
        "print(\"not True : \", not True )\n",
        "print(\"not False : \", not False )"
      ],
      "metadata": {
        "colab": {
          "base_uri": "https://localhost:8080/"
        },
        "id": "XmyMyQ46Sjon",
        "outputId": "e6f0041c-9fff-477f-f01d-3d885eb54d46"
      },
      "execution_count": null,
      "outputs": [
        {
          "output_type": "stream",
          "name": "stdout",
          "text": [
            "False\n",
            "True\n",
            "not True :  False\n",
            "not False :  True\n"
          ]
        }
      ]
    },
    {
      "cell_type": "code",
      "source": [
        "name = input(\"ndkjfhalk\")\n",
        "age =input(name+\"dkjafafh\")\n",
        "print(age + name)"
      ],
      "metadata": {
        "colab": {
          "base_uri": "https://localhost:8080/"
        },
        "id": "O2NTYJaEWXRV",
        "outputId": "9557ffbb-096f-4da5-917f-0aff82653df7"
      },
      "execution_count": null,
      "outputs": [
        {
          "output_type": "stream",
          "name": "stdout",
          "text": [
            "ndkjfhalkali\n",
            "alidkjafafh15\n",
            "15ali\n"
          ]
        }
      ]
    }
  ]
}
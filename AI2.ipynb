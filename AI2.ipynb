{
  "nbformat": 4,
  "nbformat_minor": 0,
  "metadata": {
    "colab": {
      "name": "AI2.ipynb",
      "provenance": [],
      "collapsed_sections": [],
      "authorship_tag": "ABX9TyOkq51DX+MRcCSZ3Hu6Vqut",
      "include_colab_link": true
    },
    "kernelspec": {
      "name": "python3",
      "display_name": "Python 3"
    },
    "language_info": {
      "name": "python"
    }
  },
  "cells": [
    {
      "cell_type": "markdown",
      "metadata": {
        "id": "view-in-github",
        "colab_type": "text"
      },
      "source": [
        "<a href=\"https://colab.research.google.com/github/burcu-karabacak/Global-Al-Hub/blob/main/AI2.ipynb\" target=\"_parent\"><img src=\"https://colab.research.google.com/assets/colab-badge.svg\" alt=\"Open In Colab\"/></a>"
      ]
    },
    {
      "cell_type": "markdown",
      "source": [
        "**AI7030 Flow controls**\n",
        "\n",
        "If-Else statements\n",
        "\n",
        "• For loops\n",
        "\n",
        "• While loops\n",
        "\n",
        "• Break infinite loops"
      ],
      "metadata": {
        "id": "ZkXzhCGPXkq8"
      }
    },
    {
      "cell_type": "code",
      "source": [
        "# ıf-else statement\n",
        "\n",
        "celsius = 56\n",
        "if celsius > 35:\n",
        "  print(\"hot\")\n",
        "elif celsius > 20 :\n",
        "  print(\"good\")\n",
        "else:\n",
        "  print(\"cold \")"
      ],
      "metadata": {
        "colab": {
          "base_uri": "https://localhost:8080/"
        },
        "id": "286WrWTAXr6t",
        "outputId": "9bf06e1c-eec5-49e0-d31e-5cc2baab83ef"
      },
      "execution_count": null,
      "outputs": [
        {
          "output_type": "stream",
          "name": "stdout",
          "text": [
            "hot\n"
          ]
        }
      ]
    },
    {
      "cell_type": "code",
      "source": [
        "drivers_licence=True\n",
        "age=17\n",
        "\n",
        "if age >17:\n",
        "    if drivers_licence:\n",
        "      print(\"you v-can drive car\")\n",
        "    else:\n",
        "      print(\"you need to go to a drivers licence course\")\n",
        "else:\n",
        "  print(\"you need to get older\")"
      ],
      "metadata": {
        "colab": {
          "base_uri": "https://localhost:8080/"
        },
        "id": "3wOuzDFmdLJk",
        "outputId": "27fe1cf1-4258-41d7-efda-29fbb7255c8b"
      },
      "execution_count": null,
      "outputs": [
        {
          "output_type": "stream",
          "name": "stdout",
          "text": [
            "you need to get older\n"
          ]
        }
      ]
    },
    {
      "cell_type": "markdown",
      "source": [
        "for loop\n"
      ],
      "metadata": {
        "id": "tUYcOkaIxoY2"
      }
    },
    {
      "cell_type": "code",
      "source": [
        "volcane_name= \"Eyjafjallajökull\"\n",
        "\n",
        "for i in volcane_name:\n",
        "    print(i)\n",
        "print(\"loop is completed\")"
      ],
      "metadata": {
        "colab": {
          "base_uri": "https://localhost:8080/"
        },
        "id": "5z3FT-Caxrtb",
        "outputId": "fa2f14ad-ed1a-4d4b-c9e4-b1f25558df0e"
      },
      "execution_count": null,
      "outputs": [
        {
          "output_type": "stream",
          "name": "stdout",
          "text": [
            "E\n",
            "y\n",
            "j\n",
            "a\n",
            "f\n",
            "j\n",
            "a\n",
            "l\n",
            "l\n",
            "a\n",
            "j\n",
            "ö\n",
            "k\n",
            "u\n",
            "l\n",
            "l\n",
            "loop is completed\n"
          ]
        }
      ]
    },
    {
      "cell_type": "code",
      "source": [
        "num= [1,2,3,4,5,6,7,8,9,10]\n",
        "for i in num:\n",
        "    print(i)\n",
        "print(\"loop is completed\")   "
      ],
      "metadata": {
        "colab": {
          "base_uri": "https://localhost:8080/"
        },
        "id": "B4Wqs1bzyuht",
        "outputId": "75939544-a680-49d1-c44f-eedebcf30051"
      },
      "execution_count": null,
      "outputs": [
        {
          "output_type": "stream",
          "name": "stdout",
          "text": [
            "1\n",
            "2\n",
            "3\n",
            "4\n",
            "5\n",
            "6\n",
            "7\n",
            "8\n",
            "9\n",
            "10\n",
            "loop is completed\n"
          ]
        }
      ]
    },
    {
      "cell_type": "code",
      "source": [
        "#range (10) --(0,9)   (2,20)--2,19\n",
        "\n",
        "for i in range(5,21):\n",
        "  print(i)\n",
        "print(\"loop is completed\") "
      ],
      "metadata": {
        "colab": {
          "base_uri": "https://localhost:8080/"
        },
        "id": "3A8eGbf-zHwX",
        "outputId": "16d9749f-49bc-46a0-862f-ea8c44bba7ef"
      },
      "execution_count": null,
      "outputs": [
        {
          "output_type": "stream",
          "name": "stdout",
          "text": [
            "5\n",
            "6\n",
            "7\n",
            "8\n",
            "9\n",
            "10\n",
            "11\n",
            "12\n",
            "13\n",
            "14\n",
            "15\n",
            "16\n",
            "17\n",
            "18\n",
            "19\n",
            "20\n",
            "loop is completed\n"
          ]
        }
      ]
    },
    {
      "cell_type": "code",
      "source": [
        "for i in range(1,101):\n",
        "  if i % 5 == 0:\n",
        "    print(i)\n",
        "print(\"loop is completed\")    \n"
      ],
      "metadata": {
        "colab": {
          "base_uri": "https://localhost:8080/"
        },
        "id": "SJ_H4K-xzZz2",
        "outputId": "4559b2e4-d9a0-49f0-f375-260266dc535a"
      },
      "execution_count": null,
      "outputs": [
        {
          "output_type": "stream",
          "name": "stdout",
          "text": [
            "5\n",
            "10\n",
            "15\n",
            "20\n",
            "25\n",
            "30\n",
            "35\n",
            "40\n",
            "45\n",
            "50\n",
            "55\n",
            "60\n",
            "65\n",
            "70\n",
            "75\n",
            "80\n",
            "85\n",
            "90\n",
            "95\n",
            "100\n",
            "loop is completed\n"
          ]
        }
      ]
    },
    {
      "cell_type": "markdown",
      "source": [
        "while loop\n"
      ],
      "metadata": {
        "id": "lu_Ptthq0bH3"
      }
    },
    {
      "cell_type": "code",
      "source": [
        "import time\n",
        "celsius=5\n",
        "while celsius < 50:\n",
        "  if celsius>30:\n",
        "    print( \"hot \")\n",
        "  elif 30>= celsius > 20:\n",
        "    print(\"good\")\n",
        "  elif -273 < celsius<= 20 :\n",
        "    print(\"cold\")\n",
        "  else:\n",
        "    print(  \"something  went wrong \")\n",
        "\n",
        "  print(\"the current Tempure is  \" , celsius)\n",
        "  celsius += 5\n"
      ],
      "metadata": {
        "colab": {
          "base_uri": "https://localhost:8080/"
        },
        "id": "53T3y9wY0a7X",
        "outputId": "ae2fc269-2080-46b5-c029-c91921695bc2"
      },
      "execution_count": null,
      "outputs": [
        {
          "output_type": "stream",
          "name": "stdout",
          "text": [
            "cold\n",
            "the current Tempure is   5\n",
            "cold\n",
            "the current Tempure is   10\n",
            "cold\n",
            "the current Tempure is   15\n",
            "cold\n",
            "the current Tempure is   20\n",
            "good\n",
            "the current Tempure is   25\n",
            "good\n",
            "the current Tempure is   30\n",
            "hot \n",
            "the current Tempure is   35\n",
            "hot \n",
            "the current Tempure is   40\n",
            "hot \n",
            "the current Tempure is   45\n"
          ]
        }
      ]
    },
    {
      "cell_type": "markdown",
      "source": [
        "BREAK INFINITELOOPS\n"
      ],
      "metadata": {
        "id": "US_mCuDX3D9b"
      }
    },
    {
      "cell_type": "code",
      "source": [
        "# infinite loop\n",
        "while True:\n",
        "  print(\" ı love you\")"
      ],
      "metadata": {
        "id": "p6tmroaA2-ZY"
      },
      "execution_count": null,
      "outputs": []
    },
    {
      "cell_type": "code",
      "source": [
        "import time\n",
        "counter = 0\n",
        "\n",
        "while   counter>= 0:\n",
        "  counter +=1\n",
        "  print(counter)\n",
        "  time.sleep(1)\n"
      ],
      "metadata": {
        "id": "xFN5XgAS3myF"
      },
      "execution_count": null,
      "outputs": []
    },
    {
      "cell_type": "code",
      "source": [
        "import random\n",
        "while True:\n",
        "  random_num= random.randrange(1000)\n",
        "  print(random_num)\n",
        "\n",
        "\n",
        "  if random_num== 777:\n",
        "    print(\"found!\")\n",
        "    break"
      ],
      "metadata": {
        "colab": {
          "base_uri": "https://localhost:8080/"
        },
        "id": "ISN_3Wv-4cIW",
        "outputId": "462605b4-228b-4667-cb69-7bdbe4e9f880"
      },
      "execution_count": null,
      "outputs": [
        {
          "output_type": "stream",
          "name": "stdout",
          "text": [
            "609\n",
            "58\n",
            "154\n",
            "356\n",
            "412\n",
            "624\n",
            "480\n",
            "366\n",
            "222\n",
            "248\n",
            "361\n",
            "593\n",
            "529\n",
            "39\n",
            "341\n",
            "569\n",
            "62\n",
            "1\n",
            "162\n",
            "666\n",
            "108\n",
            "979\n",
            "946\n",
            "292\n",
            "487\n",
            "470\n",
            "271\n",
            "797\n",
            "793\n",
            "887\n",
            "585\n",
            "921\n",
            "320\n",
            "475\n",
            "623\n",
            "759\n",
            "34\n",
            "76\n",
            "486\n",
            "63\n",
            "987\n",
            "560\n",
            "383\n",
            "591\n",
            "245\n",
            "225\n",
            "288\n",
            "300\n",
            "135\n",
            "954\n",
            "888\n",
            "553\n",
            "879\n",
            "51\n",
            "232\n",
            "266\n",
            "943\n",
            "285\n",
            "458\n",
            "358\n",
            "466\n",
            "690\n",
            "938\n",
            "801\n",
            "887\n",
            "167\n",
            "931\n",
            "857\n",
            "929\n",
            "766\n",
            "132\n",
            "691\n",
            "117\n",
            "473\n",
            "793\n",
            "262\n",
            "292\n",
            "129\n",
            "379\n",
            "544\n",
            "905\n",
            "994\n",
            "706\n",
            "122\n",
            "765\n",
            "585\n",
            "445\n",
            "22\n",
            "870\n",
            "745\n",
            "405\n",
            "205\n",
            "74\n",
            "587\n",
            "22\n",
            "799\n",
            "982\n",
            "671\n",
            "236\n",
            "378\n",
            "630\n",
            "699\n",
            "842\n",
            "660\n",
            "683\n",
            "523\n",
            "79\n",
            "764\n",
            "533\n",
            "552\n",
            "978\n",
            "807\n",
            "91\n",
            "240\n",
            "925\n",
            "489\n",
            "813\n",
            "88\n",
            "337\n",
            "322\n",
            "714\n",
            "853\n",
            "10\n",
            "279\n",
            "707\n",
            "987\n",
            "980\n",
            "961\n",
            "36\n",
            "809\n",
            "102\n",
            "335\n",
            "205\n",
            "75\n",
            "17\n",
            "387\n",
            "423\n",
            "282\n",
            "754\n",
            "200\n",
            "413\n",
            "794\n",
            "521\n",
            "363\n",
            "828\n",
            "885\n",
            "576\n",
            "76\n",
            "909\n",
            "554\n",
            "334\n",
            "588\n",
            "869\n",
            "387\n",
            "220\n",
            "880\n",
            "58\n",
            "358\n",
            "121\n",
            "617\n",
            "570\n",
            "919\n",
            "303\n",
            "326\n",
            "643\n",
            "795\n",
            "813\n",
            "671\n",
            "891\n",
            "407\n",
            "10\n",
            "386\n",
            "280\n",
            "667\n",
            "230\n",
            "313\n",
            "542\n",
            "260\n",
            "304\n",
            "819\n",
            "287\n",
            "81\n",
            "977\n",
            "339\n",
            "882\n",
            "44\n",
            "688\n",
            "990\n",
            "180\n",
            "731\n",
            "278\n",
            "593\n",
            "343\n",
            "683\n",
            "775\n",
            "595\n",
            "792\n",
            "858\n",
            "170\n",
            "589\n",
            "524\n",
            "453\n",
            "682\n",
            "366\n",
            "9\n",
            "175\n",
            "663\n",
            "767\n",
            "705\n",
            "193\n",
            "192\n",
            "517\n",
            "883\n",
            "274\n",
            "189\n",
            "201\n",
            "733\n",
            "554\n",
            "334\n",
            "680\n",
            "790\n",
            "166\n",
            "977\n",
            "818\n",
            "387\n",
            "818\n",
            "394\n",
            "630\n",
            "725\n",
            "375\n",
            "979\n",
            "234\n",
            "861\n",
            "959\n",
            "904\n",
            "154\n",
            "660\n",
            "545\n",
            "120\n",
            "863\n",
            "181\n",
            "914\n",
            "46\n",
            "892\n",
            "885\n",
            "245\n",
            "816\n",
            "59\n",
            "777\n",
            "found!\n"
          ]
        }
      ]
    },
    {
      "cell_type": "code",
      "source": [
        "# for loops\n",
        "names = [\"max\",\"felix\",\"deniz\",\"selin\",\"burcu\",26,\"sarah\" ]\n",
        "\n",
        "for name in names:\n",
        "  if type(name) != str:\n",
        "    print(\"found\",name)\n",
        "    break\n",
        "\n",
        "  else:\n",
        "    print(name, \"is a string\")"
      ],
      "metadata": {
        "colab": {
          "base_uri": "https://localhost:8080/"
        },
        "id": "jleoadG05GUf",
        "outputId": "86dcd038-0525-4585-9b8b-272b29d3a3c0"
      },
      "execution_count": null,
      "outputs": [
        {
          "output_type": "stream",
          "name": "stdout",
          "text": [
            "max is a string\n",
            "felix is a string\n",
            "deniz is a string\n",
            "selin is a string\n",
            "burcu is a string\n",
            "found 26\n"
          ]
        }
      ]
    },
    {
      "cell_type": "code",
      "source": [
        "score = int(input(\"Please enter you score:\"))\n",
        "\n",
        "if score <= 50:\n",
        "  print(\"Not good, you should work harder.\") \n",
        "elif score <= 80: \n",
        "  print(\"Nice but you should still work harder.\") \n",
        "elif score <= 100:\n",
        "  print(\"Congratulations!\")\n",
        "\n",
        "else: print(\"Invalid Score\")"
      ],
      "metadata": {
        "colab": {
          "base_uri": "https://localhost:8080/"
        },
        "id": "r_oasByy6L2Z",
        "outputId": "ca10c3aa-e9de-4f70-9b50-b554d31f2a65"
      },
      "execution_count": null,
      "outputs": [
        {
          "output_type": "stream",
          "name": "stdout",
          "text": [
            "Please enter you score:50\n",
            "Not good, you should work harder.\n"
          ]
        }
      ]
    },
    {
      "cell_type": "code",
      "source": [
        "for i in \"istanbu\":\n",
        "  if i == \"n\":\n",
        "    break\n",
        "  else:\n",
        "    x += 1\n",
        "print(x)"
      ],
      "metadata": {
        "colab": {
          "base_uri": "https://localhost:8080/",
          "height": 217
        },
        "id": "59FnxesH81hd",
        "outputId": "b44c4b11-2bbe-4c70-b125-053dea89ab69"
      },
      "execution_count": null,
      "outputs": [
        {
          "output_type": "error",
          "ename": "NameError",
          "evalue": "ignored",
          "traceback": [
            "\u001b[0;31m---------------------------------------------------------------------------\u001b[0m",
            "\u001b[0;31mNameError\u001b[0m                                 Traceback (most recent call last)",
            "\u001b[0;32m<ipython-input-30-2f04f4bacb8b>\u001b[0m in \u001b[0;36m<module>\u001b[0;34m()\u001b[0m\n\u001b[1;32m      3\u001b[0m     \u001b[0;32mbreak\u001b[0m\u001b[0;34m\u001b[0m\u001b[0;34m\u001b[0m\u001b[0m\n\u001b[1;32m      4\u001b[0m   \u001b[0;32melse\u001b[0m\u001b[0;34m:\u001b[0m\u001b[0;34m\u001b[0m\u001b[0;34m\u001b[0m\u001b[0m\n\u001b[0;32m----> 5\u001b[0;31m     \u001b[0mx\u001b[0m \u001b[0;34m+=\u001b[0m \u001b[0;36m1\u001b[0m\u001b[0;34m\u001b[0m\u001b[0;34m\u001b[0m\u001b[0m\n\u001b[0m\u001b[1;32m      6\u001b[0m \u001b[0mprint\u001b[0m\u001b[0;34m(\u001b[0m\u001b[0mx\u001b[0m\u001b[0;34m)\u001b[0m\u001b[0;34m\u001b[0m\u001b[0;34m\u001b[0m\u001b[0m\n",
            "\u001b[0;31mNameError\u001b[0m: name 'x' is not defined"
          ]
        }
      ]
    },
    {
      "cell_type": "code",
      "source": [
        "x = True\n",
        "\n",
        "y = False\n",
        "\n",
        "z = False\n",
        "\n",
        "if not x or y:\n",
        "\n",
        "  print(1)\n",
        "\n",
        "elif not x or not y and z:\n",
        "\n",
        "  print(2)\n",
        "\n",
        "elif not x or y or not y and x:\n",
        "\n",
        "  print (3)\n",
        "\n",
        "else:\n",
        "\n",
        "  print(4)"
      ],
      "metadata": {
        "colab": {
          "base_uri": "https://localhost:8080/"
        },
        "id": "_hhTaUEh_tpW",
        "outputId": "4ca49aba-80b6-4755-b87f-6383355b0534"
      },
      "execution_count": null,
      "outputs": [
        {
          "output_type": "stream",
          "name": "stdout",
          "text": [
            "3\n"
          ]
        }
      ]
    }
  ]
}